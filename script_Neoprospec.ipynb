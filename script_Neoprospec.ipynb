{
 "cells": [
  {
   "cell_type": "code",
   "execution_count": 3,
   "id": "518c2eeb-381a-40c6-a61a-c8de609e7a81",
   "metadata": {},
   "outputs": [],
   "source": [
    "import Bio\n",
    "import os\n",
    "import pandas as pd\n",
    "from subprocess import call"
   ]
  },
  {
   "cell_type": "code",
   "execution_count": null,
   "id": "24f2556a-f3ec-480b-8aaf-e2287d15a3db",
   "metadata": {},
   "outputs": [],
   "source": [
    "for dirpath, dirnames, files in os.walk('../'):\n",
    "    for file_name in files:\n",
    "        file_path = os.path.join(dirpath, file_name)\n",
    "        if file_name == 'fasta_file.fasta':\n",
    "            blastdb = 'makeblastdb -in '+file_path+' -out '+dirpath+'/fastas_neoprospecta -dbtype nucl'\n",
    "            call(blastdb, shell=True)"
   ]
  },
  {
   "cell_type": "code",
   "execution_count": null,
   "id": "003d7822-cc57-4d20-a2c8-ac1adc2b5c68",
   "metadata": {},
   "outputs": [],
   "source": [
    "for dirpath, dirnames, files in os.walk('../'):\n",
    "    for file_name in files:\n",
    "        file_path = os.path.join(dirpath, file_name)\n",
    "        if file_name.endswith('001.fastq'):\n",
    "            file_id = file_name.split('_')[0]\n",
    "            \n",
    "            os.mkdir('fqs/'+file_id+')\n",
    "            \n",
    "            fastqc_pre_trimm = 'fastqc '+file_path+''\n",
    "            \n",
    "            trimmomatic = 'trimmomatic SE -threads 20 '+file_path+' fqs/'+file_id+'/'+file_id+'_R1_filt1.fastq LEADING:5 TRAILING:5 SLIDINGWINDOW:4:20 CROP:245 MINLEN:243'\n",
    "            \n",
    "            fastqc_pos_trimm = 'fastqc fqs/'+file_id+'_R1_filt1.fastq'\n",
    "            \n",
    "            fq2fa = 'fq2fa fqs/'+file_id+'/'+file_id+'_R1_filt1.fastq fqs/'+file_id+'/'+file_id+'_R1_filt1.fasta'\n",
    "            \n",
    "            blastn = 'blastn -db /media/labim/HDD/Documentos/boi/Desafio_Neoprospecta/database/fastas_neoprospecta -query fqs/'+file_id+'/'+file_id+'_R1_filt1.fasta -out fqs/'+file_id+'/result_blast00_'+file_id+'.csv -outfmt \"10 qacc sacc pident length mismatch evalue\" -num_threads 10 -max_target_seqs 1'\n",
    "            \n",
    "            call(fastqc, shell=True)\n",
    "            call(trimmomatic, shell=True)\n",
    "            call(fastqc_pos_trimm, shell=True)\n",
    "            call(fq2fa, shell=True)\n",
    "            call(blastn, shell=True)"
   ]
  },
  {
   "cell_type": "code",
   "execution_count": 70,
   "id": "56fde62d-a719-46ea-b86a-c4863145eeac",
   "metadata": {},
   "outputs": [],
   "source": [
    "with open('tables/tax_table_amostras.tsv') as taxon_table:\n",
    "    df_taxons = pd.read_csv(taxon_table, sep='\\t')\n",
    "    df_taxons['nomes'] = \"\"\n",
    "    df_taxons['codigos'] = \"\"\n",
    "        \n",
    "    for names in df_taxons['Unnamed: 0']:\n",
    "        subj_acc = names.split(' ')[0]\n",
    "        names_ = str(names).replace('[','').replace(']','').strip(subj_acc)        \n",
    "        df_taxons.loc[df_taxons['Unnamed: 0'] == names, 'nomes'] = names_\n",
    "        df_taxons.loc[df_taxons['Unnamed: 0'] == names, 'codigos'] = int(subj_acc)\n",
    "        df_taxons['codigos'] = pd.to_numeric(df_taxons['codigos'])\n",
    "    corte_tabela = df_taxons[['nomes','codigos']]\n",
    "\n",
    "\n",
    "for dirpath, dirnames, files in os.walk('../'):\n",
    "    for file_name in files:\n",
    "        file_path = os.path.join(dirpath, file_name)\n",
    "        if file_name.startswith('result_blast00'):\n",
    "            file_id = file_path.split('/')[3]\n",
    "            \n",
    "            df1 = pd.read_csv(file_path, header=None)\n",
    "            df1.rename(columns={0:'qacc',1:'codigos'}, inplace = True)\n",
    "            \n",
    "            corte_tabela2 = df1[['qacc','codigos']]\n",
    "            \n",
    "            df3 = pd.merge(corte_tabela, corte_tabela2, how = 'inner', on = 'codigos')\n",
    "            df3.to_csv('fqs/'+file_id+'/merged_results_'+file_id+'.csv', index=False)"
   ]
  },
  {
   "cell_type": "code",
   "execution_count": null,
   "id": "e08d6c5f-4169-4155-a0c9-214f664df0ba",
   "metadata": {},
   "outputs": [],
   "source": [
    "for dirpath, dirnames, files in os.walk('../'):\n",
    "    for file_name in files:\n",
    "        file_path = os.path.join(dirpath, file_name)\n",
    "        if file_name.startswith('merged_results'):\n",
    "            file_id = file_path.split('/')[3]\n",
    "            contagens00 = pd.read_csv(file_path)\n",
    "            values = contagens00['nomes'].value_counts().keys().tolist()\n",
    "            counts = contagens00['nomes'].value_counts().tolist()\n",
    "            \n",
    "            micros = {}\n",
    "            for keys in values:\n",
    "                for count in counts:\n",
    "                    micros[keys] = count\n",
    "                    counts.remove(count)\n",
    "                    break\n",
    "\n",
    "            Micros_counts = pd.DataFrame([micros])\n",
    "            \n",
    "            micros_counts_inver = Micros_counts.T\n",
    "            micros_counts_inver.rename(columns={0:file_id}, inplace = True)\n",
    "            \n",
    "            micros_counts_inver.to_csv('fqs/'+file_id+'/count_results_'+file_id+'.csv')\n"
   ]
  },
  {
   "cell_type": "code",
   "execution_count": 133,
   "id": "f7191e1f-e570-4303-8ba8-9112fda0a731",
   "metadata": {},
   "outputs": [],
   "source": [
    "files_paths = []\n",
    "\n",
    "for dirpath, dirnames, files in os.walk('./'):\n",
    "    for file_name in files:\n",
    "        file_path = os.path.join(dirpath, file_name)\n",
    "        if file_name.startswith('count') and file_name.endswith('.csv'):\n",
    "            files_paths.append(file_path)\n",
    "\n",
    "taxon_count_total = pd.concat(map(pd.read_csv, files_paths), axis=0, join='outer')\n",
    "taxon_count_total = taxon_count_total.fillna(0)\n",
    "taxon_count_total.sort_index(axis=1, inplace=True)\n",
    "taxon_count_total = taxon_count_total.groupby('Unnamed: 0').sum().to_csv('Total_count_final.csv', header=True)\n"
   ]
  },
  {
   "cell_type": "code",
   "execution_count": null,
   "id": "cde33243-199b-479f-aeea-38fe652a4577",
   "metadata": {},
   "outputs": [],
   "source": []
  }
 ],
 "metadata": {
  "kernelspec": {
   "display_name": "Python 3 (ipykernel)",
   "language": "python",
   "name": "python3"
  },
  "language_info": {
   "codemirror_mode": {
    "name": "ipython",
    "version": 3
   },
   "file_extension": ".py",
   "mimetype": "text/x-python",
   "name": "python",
   "nbconvert_exporter": "python",
   "pygments_lexer": "ipython3",
   "version": "3.8.11"
  }
 },
 "nbformat": 4,
 "nbformat_minor": 5
}
